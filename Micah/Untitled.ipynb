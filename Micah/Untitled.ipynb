{
 "cells": [
  {
   "cell_type": "code",
   "execution_count": 2,
   "id": "6650fcdb-ef13-4452-9342-0050abb6d862",
   "metadata": {},
   "outputs": [],
   "source": [
    "import pandas as pd\n",
    "import os"
   ]
  },
  {
   "cell_type": "code",
   "execution_count": 5,
   "id": "d11848e7-c693-4a72-b0ab-d682683b9f51",
   "metadata": {},
   "outputs": [
    {
     "name": "stdout",
     "output_type": "stream",
     "text": [
      "['.git', '.ipynb_checkpoints', 'brain_stroke.csv', 'gitignore', 'Kevin', 'Micah', 'Project2.ipynb', 'README.md']\n"
     ]
    }
   ],
   "source": [
    "\n",
    "directory_path = \"/Users/micah/group_project_2/Project2Repo\"\n",
    "print(os.listdir(directory_path))\n"
   ]
  },
  {
   "cell_type": "code",
   "execution_count": 7,
   "id": "4a47e8f7-b8ae-4bfc-8c99-d78e5ca42874",
   "metadata": {},
   "outputs": [
    {
     "ename": "AttributeError",
     "evalue": "'str' object has no attribute 'print'",
     "output_type": "error",
     "traceback": [
      "\u001b[1;31m---------------------------------------------------------------------------\u001b[0m",
      "\u001b[1;31mAttributeError\u001b[0m                            Traceback (most recent call last)",
      "Cell \u001b[1;32mIn[7], line 1\u001b[0m\n\u001b[1;32m----> 1\u001b[0m directory_path\u001b[38;5;241m.\u001b[39mprint\n",
      "\u001b[1;31mAttributeError\u001b[0m: 'str' object has no attribute 'print'"
     ]
    }
   ],
   "source": [
    "directory_path.print"
   ]
  },
  {
   "cell_type": "code",
   "execution_count": null,
   "id": "f25701d1-0287-42e1-9abd-d2a5cd79ab68",
   "metadata": {},
   "outputs": [],
   "source": []
  }
 ],
 "metadata": {
  "kernelspec": {
   "display_name": "Python 3 (ipykernel)",
   "language": "python",
   "name": "python3"
  },
  "language_info": {
   "codemirror_mode": {
    "name": "ipython",
    "version": 3
   },
   "file_extension": ".py",
   "mimetype": "text/x-python",
   "name": "python",
   "nbconvert_exporter": "python",
   "pygments_lexer": "ipython3",
   "version": "3.12.4"
  }
 },
 "nbformat": 4,
 "nbformat_minor": 5
}

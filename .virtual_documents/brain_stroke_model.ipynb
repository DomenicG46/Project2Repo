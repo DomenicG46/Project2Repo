#Importing dependencies
import numpy as np
import pandas as pd
import matplotlib.pyplot as plt
import hvplot.pandas
import seaborn as sns
from sklearn.preprocessing import MinMaxScaler, LabelEncoder 
from sklearn.linear_model import LogisticRegression
from sklearn import svm 
from sklearn.tree import DecisionTreeClassifier
from sklearn.ensemble import RandomForestClassifier
from sklearn import metrics
from sklearn.naive_bayes import GaussianNB 
from sklearn.metrics import accuracy_score , classification_report


#Ignoring future warnings
import warnings
warnings.simplefilter(action='ignore', category=FutureWarning)


#Loading in the csv as df_bs, where bs stands for brain stroke ;)
df_bs =pd.read_csv(r"brain_stroke.csv")


#Checking for how many patients are in the dataframe and how many 
df_bs.shape 


#Printing out the first 5 rows
df_bs.head(5)


#Checking the data type for all 11 columns
df_bs.info()


#Checking for duplicated values.
df_bs.duplicated().sum()


#Checking for null values
df_bs.isnull().sum()


#Checking how many patients had a stroke versus not.
df_bs['stroke'].value_counts()


#Data visualizations
#Setting a variable numerical_data that contains all the numerical data
numerical_data=df_bs[['age','avg_glucose_level','bmi']]
numerical_data


#Setting a variable categorical_data that contains all the categorical data
categorical_data=df_bs.select_dtypes(include=['object','int64'])
categorical_data


#Basic visualizations of columns by bar-graph
fig,ax=plt.subplots(3,3,figsize=(20,20))
fig.suptitle('Numerical data Visualization',fontsize=20)
for i,col in enumerate(categorical_data.columns):
    axs=ax[i//3,i%3]
    sns.countplot(x=df_bs[col],ax=axs)
    axs.set_title(col)
    plt.tight_layout()
plt.show()


#Looking at the age distribution
plt.figure(figsize=(8, 5))
palette = sns.color_palette("Set2")
sns.histplot(df_bs['age'], kde=True, color=palette[1])
plt.xticks(rotation=90, ha="right")
plt.show()


#Looking at residence type and stroke versus no stroke
plt.figure(figsize=(12,8))
palette = sns.color_palette("Set2")
sns.displot(data=df_bs, x="Residence_type", hue="stroke",bins=20, palette=palette)
plt.xticks(rotation=45, ha="right")




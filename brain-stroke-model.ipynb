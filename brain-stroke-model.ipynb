{
 "cells": [
  {
   "cell_type": "markdown",
   "id": "31655817",
   "metadata": {
    "papermill": {
     "duration": 0.015558,
     "end_time": "2024-05-12T17:41:08.049037",
     "exception": false,
     "start_time": "2024-05-12T17:41:08.033479",
     "status": "completed"
    },
    "tags": []
   },
   "source": [
    "# Load libraries\n"
   ]
  },
  {
   "cell_type": "code",
   "execution_count": 1,
   "id": "efa93e8c",
   "metadata": {
    "execution": {
     "iopub.execute_input": "2024-05-12T17:41:08.082367Z",
     "iopub.status.busy": "2024-05-12T17:41:08.081833Z",
     "iopub.status.idle": "2024-05-12T17:41:11.386058Z",
     "shell.execute_reply": "2024-05-12T17:41:11.384438Z"
    },
    "papermill": {
     "duration": 3.324381,
     "end_time": "2024-05-12T17:41:11.389210",
     "exception": false,
     "start_time": "2024-05-12T17:41:08.064829",
     "status": "completed"
    },
    "tags": []
   },
   "outputs": [],
   "source": [
    "import numpy as np\n",
    "import pandas as pd\n",
    "import matplotlib.pyplot as plt\n",
    "import seaborn as sns\n",
    "from sklearn.preprocessing import MinMaxScaler, LabelEncoder \n",
    "from sklearn.linear_model import LogisticRegression\n",
    "from sklearn import svm \n",
    "from sklearn.tree import DecisionTreeClassifier\n",
    "from sklearn.ensemble import RandomForestClassifier\n",
    "from sklearn import metrics\n",
    "from sklearn.naive_bayes import GaussianNB \n",
    "from sklearn.metrics import accuracy_score , classification_report\n",
    "\n",
    "\n"
   ]
  },
  {
   "cell_type": "markdown",
   "id": "4d19cb5c",
   "metadata": {
    "papermill": {
     "duration": 0.015339,
     "end_time": "2024-05-12T17:41:11.419609",
     "exception": false,
     "start_time": "2024-05-12T17:41:11.404270",
     "status": "completed"
    },
    "tags": []
   },
   "source": [
    "# load the data\n"
   ]
  },
  {
   "cell_type": "code",
   "execution_count": 2,
   "id": "a5924e7d",
   "metadata": {
    "execution": {
     "iopub.execute_input": "2024-05-12T17:41:11.452657Z",
     "iopub.status.busy": "2024-05-12T17:41:11.452062Z",
     "iopub.status.idle": "2024-05-12T17:41:11.490282Z",
     "shell.execute_reply": "2024-05-12T17:41:11.489258Z"
    },
    "papermill": {
     "duration": 0.057098,
     "end_time": "2024-05-12T17:41:11.493013",
     "exception": false,
     "start_time": "2024-05-12T17:41:11.435915",
     "status": "completed"
    },
    "tags": []
   },
   "outputs": [],
   "source": [
    "df_Stroke =pd.read_csv(\"/kaggle/input/brain-stroke-dataset/brain_stroke.csv\")\n"
   ]
  },
  {
   "cell_type": "code",
   "execution_count": 3,
   "id": "fc3bfc52",
   "metadata": {
    "execution": {
     "iopub.execute_input": "2024-05-12T17:41:11.526378Z",
     "iopub.status.busy": "2024-05-12T17:41:11.525966Z",
     "iopub.status.idle": "2024-05-12T17:41:11.532908Z",
     "shell.execute_reply": "2024-05-12T17:41:11.532088Z"
    },
    "papermill": {
     "duration": 0.02672,
     "end_time": "2024-05-12T17:41:11.535745",
     "exception": false,
     "start_time": "2024-05-12T17:41:11.509025",
     "status": "completed"
    },
    "tags": []
   },
   "outputs": [
    {
     "data": {
      "text/plain": [
       "(4981, 11)"
      ]
     },
     "execution_count": 3,
     "metadata": {},
     "output_type": "execute_result"
    }
   ],
   "source": [
    "df_Stroke.shape "
   ]
  },
  {
   "cell_type": "code",
   "execution_count": 4,
   "id": "8b929f20",
   "metadata": {
    "execution": {
     "iopub.execute_input": "2024-05-12T17:41:11.569488Z",
     "iopub.status.busy": "2024-05-12T17:41:11.568766Z",
     "iopub.status.idle": "2024-05-12T17:41:11.577716Z",
     "shell.execute_reply": "2024-05-12T17:41:11.576525Z"
    },
    "papermill": {
     "duration": 0.029409,
     "end_time": "2024-05-12T17:41:11.580625",
     "exception": false,
     "start_time": "2024-05-12T17:41:11.551216",
     "status": "completed"
    },
    "tags": []
   },
   "outputs": [
    {
     "data": {
      "text/plain": [
       "Index(['gender', 'age', 'hypertension', 'heart_disease', 'ever_married',\n",
       "       'work_type', 'Residence_type', 'avg_glucose_level', 'bmi',\n",
       "       'smoking_status', 'stroke'],\n",
       "      dtype='object')"
      ]
     },
     "execution_count": 4,
     "metadata": {},
     "output_type": "execute_result"
    }
   ],
   "source": [
    "df_Stroke.columns"
   ]
  },
  {
   "cell_type": "code",
   "execution_count": 5,
   "id": "1f8602b6",
   "metadata": {
    "execution": {
     "iopub.execute_input": "2024-05-12T17:41:11.613690Z",
     "iopub.status.busy": "2024-05-12T17:41:11.612902Z",
     "iopub.status.idle": "2024-05-12T17:41:11.643051Z",
     "shell.execute_reply": "2024-05-12T17:41:11.642173Z"
    },
    "papermill": {
     "duration": 0.049539,
     "end_time": "2024-05-12T17:41:11.645427",
     "exception": false,
     "start_time": "2024-05-12T17:41:11.595888",
     "status": "completed"
    },
    "tags": []
   },
   "outputs": [
    {
     "data": {
      "text/html": [
       "<div>\n",
       "<style scoped>\n",
       "    .dataframe tbody tr th:only-of-type {\n",
       "        vertical-align: middle;\n",
       "    }\n",
       "\n",
       "    .dataframe tbody tr th {\n",
       "        vertical-align: top;\n",
       "    }\n",
       "\n",
       "    .dataframe thead th {\n",
       "        text-align: right;\n",
       "    }\n",
       "</style>\n",
       "<table border=\"1\" class=\"dataframe\">\n",
       "  <thead>\n",
       "    <tr style=\"text-align: right;\">\n",
       "      <th></th>\n",
       "      <th>gender</th>\n",
       "      <th>age</th>\n",
       "      <th>hypertension</th>\n",
       "      <th>heart_disease</th>\n",
       "      <th>ever_married</th>\n",
       "      <th>work_type</th>\n",
       "      <th>Residence_type</th>\n",
       "      <th>avg_glucose_level</th>\n",
       "      <th>bmi</th>\n",
       "      <th>smoking_status</th>\n",
       "      <th>stroke</th>\n",
       "    </tr>\n",
       "  </thead>\n",
       "  <tbody>\n",
       "    <tr>\n",
       "      <th>0</th>\n",
       "      <td>Male</td>\n",
       "      <td>67.0</td>\n",
       "      <td>0</td>\n",
       "      <td>1</td>\n",
       "      <td>Yes</td>\n",
       "      <td>Private</td>\n",
       "      <td>Urban</td>\n",
       "      <td>228.69</td>\n",
       "      <td>36.6</td>\n",
       "      <td>formerly smoked</td>\n",
       "      <td>1</td>\n",
       "    </tr>\n",
       "    <tr>\n",
       "      <th>1</th>\n",
       "      <td>Male</td>\n",
       "      <td>80.0</td>\n",
       "      <td>0</td>\n",
       "      <td>1</td>\n",
       "      <td>Yes</td>\n",
       "      <td>Private</td>\n",
       "      <td>Rural</td>\n",
       "      <td>105.92</td>\n",
       "      <td>32.5</td>\n",
       "      <td>never smoked</td>\n",
       "      <td>1</td>\n",
       "    </tr>\n",
       "    <tr>\n",
       "      <th>2</th>\n",
       "      <td>Female</td>\n",
       "      <td>49.0</td>\n",
       "      <td>0</td>\n",
       "      <td>0</td>\n",
       "      <td>Yes</td>\n",
       "      <td>Private</td>\n",
       "      <td>Urban</td>\n",
       "      <td>171.23</td>\n",
       "      <td>34.4</td>\n",
       "      <td>smokes</td>\n",
       "      <td>1</td>\n",
       "    </tr>\n",
       "    <tr>\n",
       "      <th>3</th>\n",
       "      <td>Female</td>\n",
       "      <td>79.0</td>\n",
       "      <td>1</td>\n",
       "      <td>0</td>\n",
       "      <td>Yes</td>\n",
       "      <td>Self-employed</td>\n",
       "      <td>Rural</td>\n",
       "      <td>174.12</td>\n",
       "      <td>24.0</td>\n",
       "      <td>never smoked</td>\n",
       "      <td>1</td>\n",
       "    </tr>\n",
       "    <tr>\n",
       "      <th>4</th>\n",
       "      <td>Male</td>\n",
       "      <td>81.0</td>\n",
       "      <td>0</td>\n",
       "      <td>0</td>\n",
       "      <td>Yes</td>\n",
       "      <td>Private</td>\n",
       "      <td>Urban</td>\n",
       "      <td>186.21</td>\n",
       "      <td>29.0</td>\n",
       "      <td>formerly smoked</td>\n",
       "      <td>1</td>\n",
       "    </tr>\n",
       "  </tbody>\n",
       "</table>\n",
       "</div>"
      ],
      "text/plain": [
       "   gender   age  hypertension  heart_disease ever_married      work_type  \\\n",
       "0    Male  67.0             0              1          Yes        Private   \n",
       "1    Male  80.0             0              1          Yes        Private   \n",
       "2  Female  49.0             0              0          Yes        Private   \n",
       "3  Female  79.0             1              0          Yes  Self-employed   \n",
       "4    Male  81.0             0              0          Yes        Private   \n",
       "\n",
       "  Residence_type  avg_glucose_level   bmi   smoking_status  stroke  \n",
       "0          Urban             228.69  36.6  formerly smoked       1  \n",
       "1          Rural             105.92  32.5     never smoked       1  \n",
       "2          Urban             171.23  34.4           smokes       1  \n",
       "3          Rural             174.12  24.0     never smoked       1  \n",
       "4          Urban             186.21  29.0  formerly smoked       1  "
      ]
     },
     "execution_count": 5,
     "metadata": {},
     "output_type": "execute_result"
    }
   ],
   "source": [
    "df_Stroke.head()"
   ]
  },
  {
   "cell_type": "code",
   "execution_count": 6,
   "id": "98e56ac9",
   "metadata": {
    "execution": {
     "iopub.execute_input": "2024-05-12T17:41:11.678464Z",
     "iopub.status.busy": "2024-05-12T17:41:11.677695Z",
     "iopub.status.idle": "2024-05-12T17:41:11.709586Z",
     "shell.execute_reply": "2024-05-12T17:41:11.708204Z"
    },
    "papermill": {
     "duration": 0.051786,
     "end_time": "2024-05-12T17:41:11.712416",
     "exception": false,
     "start_time": "2024-05-12T17:41:11.660630",
     "status": "completed"
    },
    "tags": []
   },
   "outputs": [
    {
     "name": "stdout",
     "output_type": "stream",
     "text": [
      "<class 'pandas.core.frame.DataFrame'>\n",
      "RangeIndex: 4981 entries, 0 to 4980\n",
      "Data columns (total 11 columns):\n",
      " #   Column             Non-Null Count  Dtype  \n",
      "---  ------             --------------  -----  \n",
      " 0   gender             4981 non-null   object \n",
      " 1   age                4981 non-null   float64\n",
      " 2   hypertension       4981 non-null   int64  \n",
      " 3   heart_disease      4981 non-null   int64  \n",
      " 4   ever_married       4981 non-null   object \n",
      " 5   work_type          4981 non-null   object \n",
      " 6   Residence_type     4981 non-null   object \n",
      " 7   avg_glucose_level  4981 non-null   float64\n",
      " 8   bmi                4981 non-null   float64\n",
      " 9   smoking_status     4981 non-null   object \n",
      " 10  stroke             4981 non-null   int64  \n",
      "dtypes: float64(3), int64(3), object(5)\n",
      "memory usage: 428.2+ KB\n"
     ]
    }
   ],
   "source": [
    "df_Stroke.info()"
   ]
  },
  {
   "cell_type": "code",
   "execution_count": 7,
   "id": "ec6e481e",
   "metadata": {
    "execution": {
     "iopub.execute_input": "2024-05-12T17:41:11.746054Z",
     "iopub.status.busy": "2024-05-12T17:41:11.745542Z",
     "iopub.status.idle": "2024-05-12T17:41:11.780487Z",
     "shell.execute_reply": "2024-05-12T17:41:11.779227Z"
    },
    "papermill": {
     "duration": 0.055229,
     "end_time": "2024-05-12T17:41:11.783169",
     "exception": false,
     "start_time": "2024-05-12T17:41:11.727940",
     "status": "completed"
    },
    "tags": []
   },
   "outputs": [
    {
     "data": {
      "text/html": [
       "<div>\n",
       "<style scoped>\n",
       "    .dataframe tbody tr th:only-of-type {\n",
       "        vertical-align: middle;\n",
       "    }\n",
       "\n",
       "    .dataframe tbody tr th {\n",
       "        vertical-align: top;\n",
       "    }\n",
       "\n",
       "    .dataframe thead th {\n",
       "        text-align: right;\n",
       "    }\n",
       "</style>\n",
       "<table border=\"1\" class=\"dataframe\">\n",
       "  <thead>\n",
       "    <tr style=\"text-align: right;\">\n",
       "      <th></th>\n",
       "      <th>age</th>\n",
       "      <th>hypertension</th>\n",
       "      <th>heart_disease</th>\n",
       "      <th>avg_glucose_level</th>\n",
       "      <th>bmi</th>\n",
       "      <th>stroke</th>\n",
       "    </tr>\n",
       "  </thead>\n",
       "  <tbody>\n",
       "    <tr>\n",
       "      <th>count</th>\n",
       "      <td>4981.000000</td>\n",
       "      <td>4981.000000</td>\n",
       "      <td>4981.000000</td>\n",
       "      <td>4981.000000</td>\n",
       "      <td>4981.000000</td>\n",
       "      <td>4981.000000</td>\n",
       "    </tr>\n",
       "    <tr>\n",
       "      <th>mean</th>\n",
       "      <td>43.419859</td>\n",
       "      <td>0.096165</td>\n",
       "      <td>0.055210</td>\n",
       "      <td>105.943562</td>\n",
       "      <td>28.498173</td>\n",
       "      <td>0.049789</td>\n",
       "    </tr>\n",
       "    <tr>\n",
       "      <th>std</th>\n",
       "      <td>22.662755</td>\n",
       "      <td>0.294848</td>\n",
       "      <td>0.228412</td>\n",
       "      <td>45.075373</td>\n",
       "      <td>6.790464</td>\n",
       "      <td>0.217531</td>\n",
       "    </tr>\n",
       "    <tr>\n",
       "      <th>min</th>\n",
       "      <td>0.080000</td>\n",
       "      <td>0.000000</td>\n",
       "      <td>0.000000</td>\n",
       "      <td>55.120000</td>\n",
       "      <td>14.000000</td>\n",
       "      <td>0.000000</td>\n",
       "    </tr>\n",
       "    <tr>\n",
       "      <th>25%</th>\n",
       "      <td>25.000000</td>\n",
       "      <td>0.000000</td>\n",
       "      <td>0.000000</td>\n",
       "      <td>77.230000</td>\n",
       "      <td>23.700000</td>\n",
       "      <td>0.000000</td>\n",
       "    </tr>\n",
       "    <tr>\n",
       "      <th>50%</th>\n",
       "      <td>45.000000</td>\n",
       "      <td>0.000000</td>\n",
       "      <td>0.000000</td>\n",
       "      <td>91.850000</td>\n",
       "      <td>28.100000</td>\n",
       "      <td>0.000000</td>\n",
       "    </tr>\n",
       "    <tr>\n",
       "      <th>75%</th>\n",
       "      <td>61.000000</td>\n",
       "      <td>0.000000</td>\n",
       "      <td>0.000000</td>\n",
       "      <td>113.860000</td>\n",
       "      <td>32.600000</td>\n",
       "      <td>0.000000</td>\n",
       "    </tr>\n",
       "    <tr>\n",
       "      <th>max</th>\n",
       "      <td>82.000000</td>\n",
       "      <td>1.000000</td>\n",
       "      <td>1.000000</td>\n",
       "      <td>271.740000</td>\n",
       "      <td>48.900000</td>\n",
       "      <td>1.000000</td>\n",
       "    </tr>\n",
       "  </tbody>\n",
       "</table>\n",
       "</div>"
      ],
      "text/plain": [
       "               age  hypertension  heart_disease  avg_glucose_level  \\\n",
       "count  4981.000000   4981.000000    4981.000000        4981.000000   \n",
       "mean     43.419859      0.096165       0.055210         105.943562   \n",
       "std      22.662755      0.294848       0.228412          45.075373   \n",
       "min       0.080000      0.000000       0.000000          55.120000   \n",
       "25%      25.000000      0.000000       0.000000          77.230000   \n",
       "50%      45.000000      0.000000       0.000000          91.850000   \n",
       "75%      61.000000      0.000000       0.000000         113.860000   \n",
       "max      82.000000      1.000000       1.000000         271.740000   \n",
       "\n",
       "               bmi       stroke  \n",
       "count  4981.000000  4981.000000  \n",
       "mean     28.498173     0.049789  \n",
       "std       6.790464     0.217531  \n",
       "min      14.000000     0.000000  \n",
       "25%      23.700000     0.000000  \n",
       "50%      28.100000     0.000000  \n",
       "75%      32.600000     0.000000  \n",
       "max      48.900000     1.000000  "
      ]
     },
     "execution_count": 7,
     "metadata": {},
     "output_type": "execute_result"
    }
   ],
   "source": [
    "\n",
    "df_Stroke.describe()"
   ]
  },
  {
   "cell_type": "code",
   "execution_count": 8,
   "id": "5f2d7b6f",
   "metadata": {
    "execution": {
     "iopub.execute_input": "2024-05-12T17:41:11.819182Z",
     "iopub.status.busy": "2024-05-12T17:41:11.818415Z",
     "iopub.status.idle": "2024-05-12T17:41:11.831481Z",
     "shell.execute_reply": "2024-05-12T17:41:11.829989Z"
    },
    "papermill": {
     "duration": 0.034804,
     "end_time": "2024-05-12T17:41:11.834191",
     "exception": false,
     "start_time": "2024-05-12T17:41:11.799387",
     "status": "completed"
    },
    "tags": []
   },
   "outputs": [
    {
     "data": {
      "text/plain": [
       "0"
      ]
     },
     "execution_count": 8,
     "metadata": {},
     "output_type": "execute_result"
    }
   ],
   "source": [
    "df_Stroke.duplicated().sum()"
   ]
  },
  {
   "cell_type": "code",
   "execution_count": 9,
   "id": "a2fffa3b",
   "metadata": {
    "execution": {
     "iopub.execute_input": "2024-05-12T17:41:11.869781Z",
     "iopub.status.busy": "2024-05-12T17:41:11.868996Z",
     "iopub.status.idle": "2024-05-12T17:41:11.883208Z",
     "shell.execute_reply": "2024-05-12T17:41:11.881641Z"
    },
    "papermill": {
     "duration": 0.035518,
     "end_time": "2024-05-12T17:41:11.886261",
     "exception": false,
     "start_time": "2024-05-12T17:41:11.850743",
     "status": "completed"
    },
    "tags": []
   },
   "outputs": [
    {
     "data": {
      "text/plain": [
       "gender               0\n",
       "age                  0\n",
       "hypertension         0\n",
       "heart_disease        0\n",
       "ever_married         0\n",
       "work_type            0\n",
       "Residence_type       0\n",
       "avg_glucose_level    0\n",
       "bmi                  0\n",
       "smoking_status       0\n",
       "stroke               0\n",
       "dtype: int64"
      ]
     },
     "execution_count": 9,
     "metadata": {},
     "output_type": "execute_result"
    }
   ],
   "source": [
    "df_Stroke.isnull().sum()"
   ]
  },
  {
   "cell_type": "code",
   "execution_count": 10,
   "id": "8730ab24",
   "metadata": {
    "execution": {
     "iopub.execute_input": "2024-05-12T17:41:11.920572Z",
     "iopub.status.busy": "2024-05-12T17:41:11.920166Z",
     "iopub.status.idle": "2024-05-12T17:41:11.929293Z",
     "shell.execute_reply": "2024-05-12T17:41:11.927873Z"
    },
    "papermill": {
     "duration": 0.029739,
     "end_time": "2024-05-12T17:41:11.932300",
     "exception": false,
     "start_time": "2024-05-12T17:41:11.902561",
     "status": "completed"
    },
    "tags": []
   },
   "outputs": [
    {
     "name": "stderr",
     "output_type": "stream",
     "text": [
      "/tmp/ipykernel_18/3981196944.py:1: FutureWarning: A value is trying to be set on a copy of a DataFrame or Series through chained assignment using an inplace method.\n",
      "The behavior will change in pandas 3.0. This inplace method will never work because the intermediate object on which we are setting values always behaves as a copy.\n",
      "\n",
      "For example, when doing 'df[col].method(value, inplace=True)', try using 'df.method({col: value}, inplace=True)' or df[col] = df[col].method(value) instead, to perform the operation inplace on the original object.\n",
      "\n",
      "\n",
      "  df_Stroke['stroke'].replace({0: 'The patient did not have a stroke', 1: 'The patient had a stroke'}, inplace=True)\n"
     ]
    }
   ],
   "source": [
    "df_Stroke['stroke'].replace({0: 'The patient did not have a stroke', 1: 'The patient had a stroke'}, inplace=True)"
   ]
  },
  {
   "cell_type": "code",
   "execution_count": 11,
   "id": "517d3627",
   "metadata": {
    "execution": {
     "iopub.execute_input": "2024-05-12T17:41:11.973795Z",
     "iopub.status.busy": "2024-05-12T17:41:11.972387Z",
     "iopub.status.idle": "2024-05-12T17:41:11.995538Z",
     "shell.execute_reply": "2024-05-12T17:41:11.994580Z"
    },
    "papermill": {
     "duration": 0.04704,
     "end_time": "2024-05-12T17:41:11.998069",
     "exception": false,
     "start_time": "2024-05-12T17:41:11.951029",
     "status": "completed"
    },
    "tags": []
   },
   "outputs": [
    {
     "data": {
      "text/html": [
       "<div>\n",
       "<style scoped>\n",
       "    .dataframe tbody tr th:only-of-type {\n",
       "        vertical-align: middle;\n",
       "    }\n",
       "\n",
       "    .dataframe tbody tr th {\n",
       "        vertical-align: top;\n",
       "    }\n",
       "\n",
       "    .dataframe thead th {\n",
       "        text-align: right;\n",
       "    }\n",
       "</style>\n",
       "<table border=\"1\" class=\"dataframe\">\n",
       "  <thead>\n",
       "    <tr style=\"text-align: right;\">\n",
       "      <th></th>\n",
       "      <th>gender</th>\n",
       "      <th>age</th>\n",
       "      <th>hypertension</th>\n",
       "      <th>heart_disease</th>\n",
       "      <th>ever_married</th>\n",
       "      <th>work_type</th>\n",
       "      <th>Residence_type</th>\n",
       "      <th>avg_glucose_level</th>\n",
       "      <th>bmi</th>\n",
       "      <th>smoking_status</th>\n",
       "      <th>stroke</th>\n",
       "    </tr>\n",
       "  </thead>\n",
       "  <tbody>\n",
       "    <tr>\n",
       "      <th>0</th>\n",
       "      <td>Male</td>\n",
       "      <td>67.0</td>\n",
       "      <td>0</td>\n",
       "      <td>1</td>\n",
       "      <td>Yes</td>\n",
       "      <td>Private</td>\n",
       "      <td>Urban</td>\n",
       "      <td>228.69</td>\n",
       "      <td>36.6</td>\n",
       "      <td>formerly smoked</td>\n",
       "      <td>The patient had a stroke</td>\n",
       "    </tr>\n",
       "    <tr>\n",
       "      <th>1</th>\n",
       "      <td>Male</td>\n",
       "      <td>80.0</td>\n",
       "      <td>0</td>\n",
       "      <td>1</td>\n",
       "      <td>Yes</td>\n",
       "      <td>Private</td>\n",
       "      <td>Rural</td>\n",
       "      <td>105.92</td>\n",
       "      <td>32.5</td>\n",
       "      <td>never smoked</td>\n",
       "      <td>The patient had a stroke</td>\n",
       "    </tr>\n",
       "    <tr>\n",
       "      <th>2</th>\n",
       "      <td>Female</td>\n",
       "      <td>49.0</td>\n",
       "      <td>0</td>\n",
       "      <td>0</td>\n",
       "      <td>Yes</td>\n",
       "      <td>Private</td>\n",
       "      <td>Urban</td>\n",
       "      <td>171.23</td>\n",
       "      <td>34.4</td>\n",
       "      <td>smokes</td>\n",
       "      <td>The patient had a stroke</td>\n",
       "    </tr>\n",
       "    <tr>\n",
       "      <th>3</th>\n",
       "      <td>Female</td>\n",
       "      <td>79.0</td>\n",
       "      <td>1</td>\n",
       "      <td>0</td>\n",
       "      <td>Yes</td>\n",
       "      <td>Self-employed</td>\n",
       "      <td>Rural</td>\n",
       "      <td>174.12</td>\n",
       "      <td>24.0</td>\n",
       "      <td>never smoked</td>\n",
       "      <td>The patient had a stroke</td>\n",
       "    </tr>\n",
       "    <tr>\n",
       "      <th>4</th>\n",
       "      <td>Male</td>\n",
       "      <td>81.0</td>\n",
       "      <td>0</td>\n",
       "      <td>0</td>\n",
       "      <td>Yes</td>\n",
       "      <td>Private</td>\n",
       "      <td>Urban</td>\n",
       "      <td>186.21</td>\n",
       "      <td>29.0</td>\n",
       "      <td>formerly smoked</td>\n",
       "      <td>The patient had a stroke</td>\n",
       "    </tr>\n",
       "  </tbody>\n",
       "</table>\n",
       "</div>"
      ],
      "text/plain": [
       "   gender   age  hypertension  heart_disease ever_married      work_type  \\\n",
       "0    Male  67.0             0              1          Yes        Private   \n",
       "1    Male  80.0             0              1          Yes        Private   \n",
       "2  Female  49.0             0              0          Yes        Private   \n",
       "3  Female  79.0             1              0          Yes  Self-employed   \n",
       "4    Male  81.0             0              0          Yes        Private   \n",
       "\n",
       "  Residence_type  avg_glucose_level   bmi   smoking_status  \\\n",
       "0          Urban             228.69  36.6  formerly smoked   \n",
       "1          Rural             105.92  32.5     never smoked   \n",
       "2          Urban             171.23  34.4           smokes   \n",
       "3          Rural             174.12  24.0     never smoked   \n",
       "4          Urban             186.21  29.0  formerly smoked   \n",
       "\n",
       "                     stroke  \n",
       "0  The patient had a stroke  \n",
       "1  The patient had a stroke  \n",
       "2  The patient had a stroke  \n",
       "3  The patient had a stroke  \n",
       "4  The patient had a stroke  "
      ]
     },
     "execution_count": 11,
     "metadata": {},
     "output_type": "execute_result"
    }
   ],
   "source": [
    "df_Stroke.head()"
   ]
  },
  {
   "cell_type": "code",
   "execution_count": 12,
   "id": "c82f8f46",
   "metadata": {
    "execution": {
     "iopub.execute_input": "2024-05-12T17:41:12.038013Z",
     "iopub.status.busy": "2024-05-12T17:41:12.036707Z",
     "iopub.status.idle": "2024-05-12T17:41:12.047104Z",
     "shell.execute_reply": "2024-05-12T17:41:12.045973Z"
    },
    "papermill": {
     "duration": 0.033427,
     "end_time": "2024-05-12T17:41:12.049697",
     "exception": false,
     "start_time": "2024-05-12T17:41:12.016270",
     "status": "completed"
    },
    "tags": []
   },
   "outputs": [
    {
     "data": {
      "text/plain": [
       "stroke\n",
       "The patient did not have a stroke    4733\n",
       "The patient had a stroke              248\n",
       "Name: count, dtype: int64"
      ]
     },
     "execution_count": 12,
     "metadata": {},
     "output_type": "execute_result"
    }
   ],
   "source": [
    "df_Stroke['stroke'].value_counts()"
   ]
  },
  {
   "cell_type": "markdown",
   "id": "07e24940",
   "metadata": {
    "papermill": {
     "duration": 0.017336,
     "end_time": "2024-05-12T17:41:12.084813",
     "exception": false,
     "start_time": "2024-05-12T17:41:12.067477",
     "status": "completed"
    },
    "tags": []
   },
   "source": [
    "# Data visualization\n"
   ]
  },
  {
   "cell_type": "code",
   "execution_count": 13,
   "id": "8bfe75e5",
   "metadata": {
    "execution": {
     "iopub.execute_input": "2024-05-12T17:41:12.120956Z",
     "iopub.status.busy": "2024-05-12T17:41:12.120530Z",
     "iopub.status.idle": "2024-05-12T17:41:12.131210Z",
     "shell.execute_reply": "2024-05-12T17:41:12.129929Z"
    },
    "papermill": {
     "duration": 0.031697,
     "end_time": "2024-05-12T17:41:12.133688",
     "exception": false,
     "start_time": "2024-05-12T17:41:12.101991",
     "status": "completed"
    },
    "tags": []
   },
   "outputs": [],
   "source": [
    "df_cat=df_Stroke[['gender', 'hypertension', 'heart_disease', 'ever_married','work_type', 'Residence_type', \n",
    "                 'smoking_status', 'stroke']]"
   ]
  },
  {
   "cell_type": "code",
   "execution_count": 14,
   "id": "346fd9ea",
   "metadata": {
    "execution": {
     "iopub.execute_input": "2024-05-12T17:41:12.170095Z",
     "iopub.status.busy": "2024-05-12T17:41:12.169632Z",
     "iopub.status.idle": "2024-05-12T17:41:14.112092Z",
     "shell.execute_reply": "2024-05-12T17:41:14.110919Z"
    },
    "papermill": {
     "duration": 1.963988,
     "end_time": "2024-05-12T17:41:14.114820",
     "exception": false,
     "start_time": "2024-05-12T17:41:12.150832",
     "status": "completed"
    },
    "tags": []
   },
   "outputs": [
    {
     "data": {
      "image/png": "[encoded data removed]",
      "text/plain": [
       "<Figure size 1500x600 with 1 Axes>"
      ]
     },
     "metadata": {},
     "output_type": "display_data"
    },
    {
     "data": {
      "image/png": "[encoded data removed]",
      "text/plain": [
       "<Figure size 1500x600 with 1 Axes>"
      ]
     },
     "metadata": {},
     "output_type": "display_data"
    },
    {
     "data": {
      "image/png": "[encoded data removed]",
      "text/plain": [
       "<Figure size 1500x600 with 1 Axes>"
      ]
     },
     "metadata": {},
     "output_type": "display_data"
    },
    {
     "data": {
      "image/png": "[encoded data removed]",
      "text/plain": [
       "<Figure size 1500x600 with 1 Axes>"
      ]
     },
     "metadata": {},
     "output_type": "display_data"
    },
    {
     "data": {
      "image/png": "[encoded data removed]",
      "text/plain": [
       "<Figure size 1500x600 with 1 Axes>"
      ]
     },
     "metadata": {},
     "output_type": "display_data"
    },
    {
     "data": {
      "image/png": "[encoded data removed]",
      "text/plain": [
       "<Figure size 1500x600 with 1 Axes>"
      ]
     },
     "metadata": {},
     "output_type": "display_data"
    },
    {
     "data": {
      "image/png": "[encoded data removed]",
      "text/plain": [
       "<Figure size 1500x600 with 1 Axes>"
      ]
     },
     "metadata": {},
     "output_type": "display_data"
    },
    {
     "data": {
      "image/png": "[encoded data removed]",
      "text/plain": [
       "<Figure size 1500x600 with 1 Axes>"
      ]
     },
     "metadata": {},
     "output_type": "display_data"
    }
   ],
   "source": [
    "for i in df_cat.columns:\n",
    "    plt.figure(figsize = (15,6))\n",
    "    sns.countplot(x=df_cat[i], data = df_cat, palette = 'hls')\n",
    "    plt.xticks(rotation = 90)\n",
    "    plt.show()"
   ]
  },
  {
   "cell_type": "markdown",
   "id": "30a87bdf",
   "metadata": {
    "papermill": {
     "duration": 0.020268,
     "end_time": "2024-05-12T17:41:14.154892",
     "exception": false,
     "start_time": "2024-05-12T17:41:14.134624",
     "status": "completed"
    },
    "tags": []
   },
   "source": [
    "# Age distribution of participants in the data set"
   ]
  },
  {
   "cell_type": "code",
   "execution_count": 15,
   "id": "1602faf2",
   "metadata": {
    "execution": {
     "iopub.execute_input": "2024-05-12T17:41:14.198206Z",
     "iopub.status.busy": "2024-05-12T17:41:14.197435Z",
     "iopub.status.idle": "2024-05-12T17:41:14.545364Z",
     "shell.execute_reply": "2024-05-12T17:41:14.544207Z"
    },
    "papermill": {
     "duration": 0.372248,
     "end_time": "2024-05-12T17:41:14.548071",
     "exception": false,
     "start_time": "2024-05-12T17:41:14.175823",
     "status": "completed"
    },
    "tags": []
   },
   "outputs": [
    {
     "name": "stderr",
     "output_type": "stream",
     "text": [
      "/opt/conda/lib/python3.10/site-packages/seaborn/_oldcore.py:1119: FutureWarning: use_inf_as_na option is deprecated and will be removed in a future version. Convert inf values to NaN before operating instead.\n",
      "  with pd.option_context('mode.use_inf_as_na', True):\n"
     ]
    },
    {
     "data": {
      "image/png": "[encoded data removed]",
      "text/plain": [
       "<Figure size 800x500 with 1 Axes>"
      ]
     },
     "metadata": {},
     "output_type": "display_data"
    }
   ],
   "source": [
    "\n",
    "plt.figure(figsize=(8, 5))\n",
    "palette = sns.color_palette(\"Set2\")\n",
    "sns.histplot(df_Stroke['age'], kde=True, color=palette[0])\n",
    "plt.xticks(rotation=90, ha=\"right\")\n",
    "plt.show()\n"
   ]
  },
  {
   "cell_type": "markdown",
   "id": "c3ed6a47",
   "metadata": {
    "papermill": {
     "duration": 0.022856,
     "end_time": "2024-05-12T17:41:14.593493",
     "exception": false,
     "start_time": "2024-05-12T17:41:14.570637",
     "status": "completed"
    },
    "tags": []
   },
   "source": [
    " \n",
    " # Exploring Stroke Occurrence Across Different Age Groups"
   ]
  },
  {
   "cell_type": "code",
   "execution_count": 16,
   "id": "db7219c1",
   "metadata": {
    "execution": {
     "iopub.execute_input": "2024-05-12T17:41:14.639095Z",
     "iopub.status.busy": "2024-05-12T17:41:14.638603Z",
     "iopub.status.idle": "2024-05-12T17:41:15.254619Z",
     "shell.execute_reply": "2024-05-12T17:41:15.253402Z"
    },
    "papermill": {
     "duration": 0.642038,
     "end_time": "2024-05-12T17:41:15.257911",
     "exception": false,
     "start_time": "2024-05-12T17:41:14.615873",
     "status": "completed"
    },
    "tags": []
   },
   "outputs": [
    {
     "name": "stderr",
     "output_type": "stream",
     "text": [
      "/opt/conda/lib/python3.10/site-packages/seaborn/_oldcore.py:1119: FutureWarning: use_inf_as_na option is deprecated and will be removed in a future version. Convert inf values to NaN before operating instead.\n",
      "  with pd.option_context('mode.use_inf_as_na', True):\n",
      "/opt/conda/lib/python3.10/site-packages/seaborn/_oldcore.py:1075: FutureWarning: When grouping with a length-1 list-like, you will need to pass a length-1 tuple to get_group in a future version of pandas. Pass `(name,)` instead of `name` to silence this warning.\n",
      "  data_subset = grouped_data.get_group(pd_key)\n",
      "/opt/conda/lib/python3.10/site-packages/seaborn/_oldcore.py:1075: FutureWarning: When grouping with a length-1 list-like, you will need to pass a length-1 tuple to get_group in a future version of pandas. Pass `(name,)` instead of `name` to silence this warning.\n",
      "  data_subset = grouped_data.get_group(pd_key)\n",
      "/opt/conda/lib/python3.10/site-packages/seaborn/_oldcore.py:1075: FutureWarning: When grouping with a length-1 list-like, you will need to pass a length-1 tuple to get_group in a future version of pandas. Pass `(name,)` instead of `name` to silence this warning.\n",
      "  data_subset = grouped_data.get_group(pd_key)\n"
     ]
    },
    {
     "data": {
      "text/plain": [
       "<seaborn.axisgrid.FacetGrid at 0x7fa64c62b670>"
      ]
     },
     "execution_count": 16,
     "metadata": {},
     "output_type": "execute_result"
    },
    {
     "data": {
      "text/plain": [
       "<Figure size 2000x1000 with 0 Axes>"
      ]
     },
     "metadata": {},
     "output_type": "display_data"
    },
    {
     "data": {
      "image/png": "[encoded data removed]",
      "text/plain": [
       "<Figure size 781.5x500 with 1 Axes>"
      ]
     },
     "metadata": {},
     "output_type": "display_data"
    }
   ],
   "source": [
    "my_palette = [\"#FF62D2\", \"#43AEF4\"]\n",
    "\n",
    "plt.figure(figsize=(20,10))\n",
    "\n",
    "sns.displot(data=df_Stroke, x=\"age\", hue=\"stroke\", kind=\"kde\",palette=my_palette)\n"
   ]
  },
  {
   "cell_type": "markdown",
   "id": "c79fa1b8",
   "metadata": {
    "papermill": {
     "duration": 0.109303,
     "end_time": "2024-05-12T17:41:15.392379",
     "exception": false,
     "start_time": "2024-05-12T17:41:15.283076",
     "status": "completed"
    },
    "tags": []
   },
   "source": [
    "# Comparison of age distribution between individuals affected and unaffected by stroke"
   ]
  },
  {
   "cell_type": "code",
   "execution_count": 17,
   "id": "223d9154",
   "metadata": {
    "execution": {
     "iopub.execute_input": "2024-05-12T17:41:15.440134Z",
     "iopub.status.busy": "2024-05-12T17:41:15.439235Z",
     "iopub.status.idle": "2024-05-12T17:41:16.125027Z",
     "shell.execute_reply": "2024-05-12T17:41:16.123329Z"
    },
    "papermill": {
     "duration": 0.713154,
     "end_time": "2024-05-12T17:41:16.127809",
     "exception": false,
     "start_time": "2024-05-12T17:41:15.414655",
     "status": "completed"
    },
    "tags": []
   },
   "outputs": [
    {
     "name": "stderr",
     "output_type": "stream",
     "text": [
      "/opt/conda/lib/python3.10/site-packages/seaborn/_oldcore.py:1119: FutureWarning: use_inf_as_na option is deprecated and will be removed in a future version. Convert inf values to NaN before operating instead.\n",
      "  with pd.option_context('mode.use_inf_as_na', True):\n",
      "/opt/conda/lib/python3.10/site-packages/seaborn/_oldcore.py:1075: FutureWarning: When grouping with a length-1 list-like, you will need to pass a length-1 tuple to get_group in a future version of pandas. Pass `(name,)` instead of `name` to silence this warning.\n",
      "  data_subset = grouped_data.get_group(pd_key)\n",
      "/opt/conda/lib/python3.10/site-packages/seaborn/_oldcore.py:1075: FutureWarning: When grouping with a length-1 list-like, you will need to pass a length-1 tuple to get_group in a future version of pandas. Pass `(name,)` instead of `name` to silence this warning.\n",
      "  data_subset = grouped_data.get_group(pd_key)\n",
      "/opt/conda/lib/python3.10/site-packages/seaborn/_oldcore.py:1075: FutureWarning: When grouping with a length-1 list-like, you will need to pass a length-1 tuple to get_group in a future version of pandas. Pass `(name,)` instead of `name` to silence this warning.\n",
      "  data_subset = grouped_data.get_group(pd_key)\n"
     ]
    },
    {
     "data": {
      "text/plain": [
       "(array([-20.,   0.,  20.,  40.,  60.,  80., 100.]),\n",
       " [Text(-20.0, 0, '−20'),\n",
       "  Text(0.0, 0, '0'),\n",
       "  Text(20.0, 0, '20'),\n",
       "  Text(40.0, 0, '40'),\n",
       "  Text(60.0, 0, '60'),\n",
       "  Text(80.0, 0, '80'),\n",
       "  Text(100.0, 0, '100')])"
      ]
     },
     "execution_count": 17,
     "metadata": {},
     "output_type": "execute_result"
    },
    {
     "data": {
      "text/plain": [
       "<Figure size 2000x1000 with 0 Axes>"
      ]
     },
     "metadata": {},
     "output_type": "display_data"
    },
    {
     "data": {
      "image/png": "[encoded data removed]",
      "text/plain": [
       "<Figure size 781.5x500 with 1 Axes>"
      ]
     },
     "metadata": {},
     "output_type": "display_data"
    }
   ],
   "source": [
    "plt.figure(figsize=(20,10))\n",
    "palette = sns.color_palette([\"#BA0ADA\" , \"#E20C7E\"])\n",
    "sns.displot(data=df_Stroke, x=\"age\", hue=\"stroke\",bins=20, palette=palette)\n",
    "plt.xticks(rotation=45, ha=\"right\")"
   ]
  },
  {
   "cell_type": "code",
   "execution_count": 18,
   "id": "1c257f8d",
   "metadata": {
    "execution": {
     "iopub.execute_input": "2024-05-12T17:41:16.178573Z",
     "iopub.status.busy": "2024-05-12T17:41:16.178119Z",
     "iopub.status.idle": "2024-05-12T17:41:16.736805Z",
     "shell.execute_reply": "2024-05-12T17:41:16.735449Z"
    },
    "papermill": {
     "duration": 0.587399,
     "end_time": "2024-05-12T17:41:16.739891",
     "exception": false,
     "start_time": "2024-05-12T17:41:16.152492",
     "status": "completed"
    },
    "tags": []
   },
   "outputs": [
    {
     "name": "stderr",
     "output_type": "stream",
     "text": [
      "/opt/conda/lib/python3.10/site-packages/seaborn/_oldcore.py:1119: FutureWarning: use_inf_as_na option is deprecated and will be removed in a future version. Convert inf values to NaN before operating instead.\n",
      "  with pd.option_context('mode.use_inf_as_na', True):\n",
      "/opt/conda/lib/python3.10/site-packages/seaborn/_oldcore.py:1075: FutureWarning: When grouping with a length-1 list-like, you will need to pass a length-1 tuple to get_group in a future version of pandas. Pass `(name,)` instead of `name` to silence this warning.\n",
      "  data_subset = grouped_data.get_group(pd_key)\n",
      "/opt/conda/lib/python3.10/site-packages/seaborn/_oldcore.py:1075: FutureWarning: When grouping with a length-1 list-like, you will need to pass a length-1 tuple to get_group in a future version of pandas. Pass `(name,)` instead of `name` to silence this warning.\n",
      "  data_subset = grouped_data.get_group(pd_key)\n",
      "/opt/conda/lib/python3.10/site-packages/seaborn/_oldcore.py:1075: FutureWarning: When grouping with a length-1 list-like, you will need to pass a length-1 tuple to get_group in a future version of pandas. Pass `(name,)` instead of `name` to silence this warning.\n",
      "  data_subset = grouped_data.get_group(pd_key)\n"
     ]
    },
    {
     "data": {
      "text/plain": [
       "<Axes: ylabel='Density'>"
      ]
     },
     "execution_count": 18,
     "metadata": {},
     "output_type": "execute_result"
    },
    {
     "data": {
      "image/png": "[encoded data removed]",
      "text/plain": [
       "<Figure size 640x480 with 1 Axes>"
      ]
     },
     "metadata": {},
     "output_type": "display_data"
    }
   ],
   "source": [
    "numerical_data = df_Stroke[['age','avg_glucose_level','bmi']]\n",
    "sns.kdeplot(data=numerical_data)"
   ]
  },
  {
   "cell_type": "markdown",
   "id": "3c2002d3",
   "metadata": {
    "papermill": {
     "duration": 0.02545,
     "end_time": "2024-05-12T17:41:16.791027",
     "exception": false,
     "start_time": "2024-05-12T17:41:16.765577",
     "status": "completed"
    },
    "tags": []
   },
   "source": [
    "# Impact of Work Type on Stroke Incidence"
   ]
  },
  {
   "cell_type": "code",
   "execution_count": 19,
   "id": "9158277e",
   "metadata": {
    "execution": {
     "iopub.execute_input": "2024-05-12T17:41:16.842251Z",
     "iopub.status.busy": "2024-05-12T17:41:16.841363Z",
     "iopub.status.idle": "2024-05-12T17:41:17.430100Z",
     "shell.execute_reply": "2024-05-12T17:41:17.428927Z"
    },
    "papermill": {
     "duration": 0.61709,
     "end_time": "2024-05-12T17:41:17.432700",
     "exception": false,
     "start_time": "2024-05-12T17:41:16.815610",
     "status": "completed"
    },
    "tags": []
   },
   "outputs": [
    {
     "name": "stderr",
     "output_type": "stream",
     "text": [
      "/tmp/ipykernel_18/1259764941.py:3: UserWarning: The palette list has more values (8) than needed (2), which may not be intended.\n",
      "  sns.displot(data=df_Stroke, x=\"work_type\", hue=\"stroke\",bins=20, palette=palette)\n",
      "/opt/conda/lib/python3.10/site-packages/seaborn/_oldcore.py:1119: FutureWarning: use_inf_as_na option is deprecated and will be removed in a future version. Convert inf values to NaN before operating instead.\n",
      "  with pd.option_context('mode.use_inf_as_na', True):\n",
      "/opt/conda/lib/python3.10/site-packages/seaborn/_oldcore.py:1075: FutureWarning: When grouping with a length-1 list-like, you will need to pass a length-1 tuple to get_group in a future version of pandas. Pass `(name,)` instead of `name` to silence this warning.\n",
      "  data_subset = grouped_data.get_group(pd_key)\n",
      "/opt/conda/lib/python3.10/site-packages/seaborn/_oldcore.py:1075: FutureWarning: When grouping with a length-1 list-like, you will need to pass a length-1 tuple to get_group in a future version of pandas. Pass `(name,)` instead of `name` to silence this warning.\n",
      "  data_subset = grouped_data.get_group(pd_key)\n",
      "/opt/conda/lib/python3.10/site-packages/seaborn/_oldcore.py:1075: FutureWarning: When grouping with a length-1 list-like, you will need to pass a length-1 tuple to get_group in a future version of pandas. Pass `(name,)` instead of `name` to silence this warning.\n",
      "  data_subset = grouped_data.get_group(pd_key)\n",
      "/opt/conda/lib/python3.10/site-packages/seaborn/_oldcore.py:1075: FutureWarning: When grouping with a length-1 list-like, you will need to pass a length-1 tuple to get_group in a future version of pandas. Pass `(name,)` instead of `name` to silence this warning.\n",
      "  data_subset = grouped_data.get_group(pd_key)\n"
     ]
    },
    {
     "data": {
      "text/plain": [
       "([0, 1, 2, 3],\n",
       " [Text(0, 0, 'Private'),\n",
       "  Text(1, 0, 'Self-employed'),\n",
       "  Text(2, 0, 'Govt_job'),\n",
       "  Text(3, 0, 'children')])"
      ]
     },
     "execution_count": 19,
     "metadata": {},
     "output_type": "execute_result"
    },
    {
     "data": {
      "text/plain": [
       "<Figure size 1200x800 with 0 Axes>"
      ]
     },
     "metadata": {},
     "output_type": "display_data"
    },
    {
     "data": {
      "image/png": "[encoded data removed]",
      "text/plain": [
       "<Figure size 781.5x500 with 1 Axes>"
      ]
     },
     "metadata": {},
     "output_type": "display_data"
    }
   ],
   "source": [
    "plt.figure(figsize=(12,8))\n",
    "palette = sns.color_palette(\"Set2\")\n",
    "sns.displot(data=df_Stroke, x=\"work_type\", hue=\"stroke\",bins=20, palette=palette)\n",
    "plt.xticks(rotation=45, ha=\"right\")\n"
   ]
  },
  {
   "cell_type": "markdown",
   "id": "7026d3cd",
   "metadata": {
    "papermill": {
     "duration": 0.024492,
     "end_time": "2024-05-12T17:41:17.481946",
     "exception": false,
     "start_time": "2024-05-12T17:41:17.457454",
     "status": "completed"
    },
    "tags": []
   },
   "source": [
    "# Encoding Step"
   ]
  },
  {
   "cell_type": "code",
   "execution_count": 20,
   "id": "ecffe7c6",
   "metadata": {
    "execution": {
     "iopub.execute_input": "2024-05-12T17:41:17.537506Z",
     "iopub.status.busy": "2024-05-12T17:41:17.536167Z",
     "iopub.status.idle": "2024-05-12T17:41:17.555187Z",
     "shell.execute_reply": "2024-05-12T17:41:17.553459Z"
    },
    "papermill": {
     "duration": 0.050862,
     "end_time": "2024-05-12T17:41:17.558365",
     "exception": false,
     "start_time": "2024-05-12T17:41:17.507503",
     "status": "completed"
    },
    "tags": []
   },
   "outputs": [],
   "source": [
    "['formerly smoked' 'never smoked' 'smokes' 'Unknown']\n",
    "from sklearn.preprocessing import LabelEncoder\n",
    "le=LabelEncoder()\n",
    "for col in df_Stroke.columns:\n",
    "    if df_Stroke[col].dtype=='object':\n",
    "        df_Stroke[col]=le.fit_transform(df_Stroke[col])"
   ]
  },
  {
   "cell_type": "code",
   "execution_count": 21,
   "id": "371c0ef2",
   "metadata": {
    "execution": {
     "iopub.execute_input": "2024-05-12T17:41:17.612901Z",
     "iopub.status.busy": "2024-05-12T17:41:17.612006Z",
     "iopub.status.idle": "2024-05-12T17:41:17.629906Z",
     "shell.execute_reply": "2024-05-12T17:41:17.628572Z"
    },
    "papermill": {
     "duration": 0.046822,
     "end_time": "2024-05-12T17:41:17.632374",
     "exception": false,
     "start_time": "2024-05-12T17:41:17.585552",
     "status": "completed"
    },
    "tags": []
   },
   "outputs": [
    {
     "data": {
      "text/html": [
       "<div>\n",
       "<style scoped>\n",
       "    .dataframe tbody tr th:only-of-type {\n",
       "        vertical-align: middle;\n",
       "    }\n",
       "\n",
       "    .dataframe tbody tr th {\n",
       "        vertical-align: top;\n",
       "    }\n",
       "\n",
       "    .dataframe thead th {\n",
       "        text-align: right;\n",
       "    }\n",
       "</style>\n",
       "<table border=\"1\" class=\"dataframe\">\n",
       "  <thead>\n",
       "    <tr style=\"text-align: right;\">\n",
       "      <th></th>\n",
       "      <th>gender</th>\n",
       "      <th>age</th>\n",
       "      <th>hypertension</th>\n",
       "      <th>heart_disease</th>\n",
       "      <th>ever_married</th>\n",
       "      <th>work_type</th>\n",
       "      <th>Residence_type</th>\n",
       "      <th>avg_glucose_level</th>\n",
       "      <th>bmi</th>\n",
       "      <th>smoking_status</th>\n",
       "      <th>stroke</th>\n",
       "    </tr>\n",
       "  </thead>\n",
       "  <tbody>\n",
       "    <tr>\n",
       "      <th>0</th>\n",
       "      <td>1</td>\n",
       "      <td>67.0</td>\n",
       "      <td>0</td>\n",
       "      <td>1</td>\n",
       "      <td>1</td>\n",
       "      <td>1</td>\n",
       "      <td>1</td>\n",
       "      <td>228.69</td>\n",
       "      <td>36.6</td>\n",
       "      <td>1</td>\n",
       "      <td>1</td>\n",
       "    </tr>\n",
       "    <tr>\n",
       "      <th>1</th>\n",
       "      <td>1</td>\n",
       "      <td>80.0</td>\n",
       "      <td>0</td>\n",
       "      <td>1</td>\n",
       "      <td>1</td>\n",
       "      <td>1</td>\n",
       "      <td>0</td>\n",
       "      <td>105.92</td>\n",
       "      <td>32.5</td>\n",
       "      <td>2</td>\n",
       "      <td>1</td>\n",
       "    </tr>\n",
       "    <tr>\n",
       "      <th>2</th>\n",
       "      <td>0</td>\n",
       "      <td>49.0</td>\n",
       "      <td>0</td>\n",
       "      <td>0</td>\n",
       "      <td>1</td>\n",
       "      <td>1</td>\n",
       "      <td>1</td>\n",
       "      <td>171.23</td>\n",
       "      <td>34.4</td>\n",
       "      <td>3</td>\n",
       "      <td>1</td>\n",
       "    </tr>\n",
       "    <tr>\n",
       "      <th>3</th>\n",
       "      <td>0</td>\n",
       "      <td>79.0</td>\n",
       "      <td>1</td>\n",
       "      <td>0</td>\n",
       "      <td>1</td>\n",
       "      <td>2</td>\n",
       "      <td>0</td>\n",
       "      <td>174.12</td>\n",
       "      <td>24.0</td>\n",
       "      <td>2</td>\n",
       "      <td>1</td>\n",
       "    </tr>\n",
       "    <tr>\n",
       "      <th>4</th>\n",
       "      <td>1</td>\n",
       "      <td>81.0</td>\n",
       "      <td>0</td>\n",
       "      <td>0</td>\n",
       "      <td>1</td>\n",
       "      <td>1</td>\n",
       "      <td>1</td>\n",
       "      <td>186.21</td>\n",
       "      <td>29.0</td>\n",
       "      <td>1</td>\n",
       "      <td>1</td>\n",
       "    </tr>\n",
       "  </tbody>\n",
       "</table>\n",
       "</div>"
      ],
      "text/plain": [
       "   gender   age  hypertension  heart_disease  ever_married  work_type  \\\n",
       "0       1  67.0             0              1             1          1   \n",
       "1       1  80.0             0              1             1          1   \n",
       "2       0  49.0             0              0             1          1   \n",
       "3       0  79.0             1              0             1          2   \n",
       "4       1  81.0             0              0             1          1   \n",
       "\n",
       "   Residence_type  avg_glucose_level   bmi  smoking_status  stroke  \n",
       "0               1             228.69  36.6               1       1  \n",
       "1               0             105.92  32.5               2       1  \n",
       "2               1             171.23  34.4               3       1  \n",
       "3               0             174.12  24.0               2       1  \n",
       "4               1             186.21  29.0               1       1  "
      ]
     },
     "execution_count": 21,
     "metadata": {},
     "output_type": "execute_result"
    }
   ],
   "source": [
    "df_Stroke.head()"
   ]
  },
  {
   "cell_type": "markdown",
   "id": "4903da1a",
   "metadata": {
    "papermill": {
     "duration": 0.026004,
     "end_time": "2024-05-12T17:41:17.683540",
     "exception": false,
     "start_time": "2024-05-12T17:41:17.657536",
     "status": "completed"
    },
    "tags": []
   },
   "source": [
    "# Feature Scaling :"
   ]
  },
  {
   "cell_type": "code",
   "execution_count": 22,
   "id": "e55f34ab",
   "metadata": {
    "execution": {
     "iopub.execute_input": "2024-05-12T17:41:17.737268Z",
     "iopub.status.busy": "2024-05-12T17:41:17.736848Z",
     "iopub.status.idle": "2024-05-12T17:41:17.759285Z",
     "shell.execute_reply": "2024-05-12T17:41:17.757873Z"
    },
    "papermill": {
     "duration": 0.052538,
     "end_time": "2024-05-12T17:41:17.762135",
     "exception": false,
     "start_time": "2024-05-12T17:41:17.709597",
     "status": "completed"
    },
    "tags": []
   },
   "outputs": [],
   "source": [
    "from sklearn.preprocessing import MinMaxScaler\n",
    "scaler = MinMaxScaler()\n",
    "for col_name in df_Stroke.columns:\n",
    "    if df_Stroke[col_name].nunique() > 5:\n",
    "        df_Stroke[col_name] = scaler.fit_transform(df_Stroke[[col_name]])"
   ]
  },
  {
   "cell_type": "markdown",
   "id": "ffb549c0",
   "metadata": {
    "papermill": {
     "duration": 0.025825,
     "end_time": "2024-05-12T17:41:17.814273",
     "exception": false,
     "start_time": "2024-05-12T17:41:17.788448",
     "status": "completed"
    },
    "tags": []
   },
   "source": [
    "# Train model\n"
   ]
  },
  {
   "cell_type": "code",
   "execution_count": 23,
   "id": "eaddd9ec",
   "metadata": {
    "execution": {
     "iopub.execute_input": "2024-05-12T17:41:17.867501Z",
     "iopub.status.busy": "2024-05-12T17:41:17.867031Z",
     "iopub.status.idle": "2024-05-12T17:41:17.873990Z",
     "shell.execute_reply": "2024-05-12T17:41:17.872593Z"
    },
    "papermill": {
     "duration": 0.037664,
     "end_time": "2024-05-12T17:41:17.877290",
     "exception": false,
     "start_time": "2024-05-12T17:41:17.839626",
     "status": "completed"
    },
    "tags": []
   },
   "outputs": [],
   "source": [
    "X = df_Stroke.drop(\"stroke\",axis=1)\n",
    "y =df_Stroke['stroke']"
   ]
  },
  {
   "cell_type": "code",
   "execution_count": 24,
   "id": "e6a398d1",
   "metadata": {
    "execution": {
     "iopub.execute_input": "2024-05-12T17:41:17.932661Z",
     "iopub.status.busy": "2024-05-12T17:41:17.931975Z",
     "iopub.status.idle": "2024-05-12T17:41:17.943098Z",
     "shell.execute_reply": "2024-05-12T17:41:17.941866Z"
    },
    "papermill": {
     "duration": 0.042247,
     "end_time": "2024-05-12T17:41:17.945876",
     "exception": false,
     "start_time": "2024-05-12T17:41:17.903629",
     "status": "completed"
    },
    "tags": []
   },
   "outputs": [],
   "source": [
    "from sklearn.model_selection import train_test_split\n",
    "X_train, X_test, y_train, y_test = train_test_split(X, y, test_size=0.3, random_state=42,shuffle=True)"
   ]
  },
  {
   "cell_type": "markdown",
   "id": "018f5834",
   "metadata": {
    "papermill": {
     "duration": 0.026981,
     "end_time": "2024-05-12T17:41:18.002060",
     "exception": false,
     "start_time": "2024-05-12T17:41:17.975079",
     "status": "completed"
    },
    "tags": []
   },
   "source": [
    "# LogisticRegression\n"
   ]
  },
  {
   "cell_type": "code",
   "execution_count": 25,
   "id": "3bb18c8a",
   "metadata": {
    "execution": {
     "iopub.execute_input": "2024-05-12T17:41:18.055921Z",
     "iopub.status.busy": "2024-05-12T17:41:18.055048Z",
     "iopub.status.idle": "2024-05-12T17:41:18.142250Z",
     "shell.execute_reply": "2024-05-12T17:41:18.140775Z"
    },
    "papermill": {
     "duration": 0.12172,
     "end_time": "2024-05-12T17:41:18.149976",
     "exception": false,
     "start_time": "2024-05-12T17:41:18.028256",
     "status": "completed"
    },
    "tags": []
   },
   "outputs": [
    {
     "name": "stdout",
     "output_type": "stream",
     "text": [
      "Logistic Regression accuracy score with all the features: 94.7826\n",
      "              precision    recall  f1-score   support\n",
      "\n",
      "           0       0.95      1.00      0.97      1417\n",
      "           1       0.00      0.00      0.00        78\n",
      "\n",
      "    accuracy                           0.95      1495\n",
      "   macro avg       0.47      0.50      0.49      1495\n",
      "weighted avg       0.90      0.95      0.92      1495\n",
      "\n"
     ]
    },
    {
     "name": "stderr",
     "output_type": "stream",
     "text": [
      "/opt/conda/lib/python3.10/site-packages/sklearn/metrics/_classification.py:1344: UndefinedMetricWarning: Precision and F-score are ill-defined and being set to 0.0 in labels with no predicted samples. Use `zero_division` parameter to control this behavior.\n",
      "  _warn_prf(average, modifier, msg_start, len(result))\n",
      "/opt/conda/lib/python3.10/site-packages/sklearn/metrics/_classification.py:1344: UndefinedMetricWarning: Precision and F-score are ill-defined and being set to 0.0 in labels with no predicted samples. Use `zero_division` parameter to control this behavior.\n",
      "  _warn_prf(average, modifier, msg_start, len(result))\n",
      "/opt/conda/lib/python3.10/site-packages/sklearn/metrics/_classification.py:1344: UndefinedMetricWarning: Precision and F-score are ill-defined and being set to 0.0 in labels with no predicted samples. Use `zero_division` parameter to control this behavior.\n",
      "  _warn_prf(average, modifier, msg_start, len(result))\n"
     ]
    }
   ],
   "source": [
    "\n",
    "logreg = LogisticRegression()\n",
    "logreg.fit(X_train, y_train)\n",
    "y_pred = logreg.predict(X_test)\n",
    "\n",
    "print('Logistic Regression accuracy score with all the features: {0:0.4f}'. format(accuracy_score(y_test, y_pred)*100))\n",
    "print(classification_report(y_test, y_pred))"
   ]
  },
  {
   "cell_type": "markdown",
   "id": "f75ed494",
   "metadata": {
    "papermill": {
     "duration": 0.04,
     "end_time": "2024-05-12T17:41:18.246776",
     "exception": false,
     "start_time": "2024-05-12T17:41:18.206776",
     "status": "completed"
    },
    "tags": []
   },
   "source": [
    "# DecisionTreeClassifier"
   ]
  },
  {
   "cell_type": "code",
   "execution_count": 26,
   "id": "fe2a81b5",
   "metadata": {
    "execution": {
     "iopub.execute_input": "2024-05-12T17:41:18.305762Z",
     "iopub.status.busy": "2024-05-12T17:41:18.305235Z",
     "iopub.status.idle": "2024-05-12T17:41:18.340445Z",
     "shell.execute_reply": "2024-05-12T17:41:18.339087Z"
    },
    "papermill": {
     "duration": 0.068823,
     "end_time": "2024-05-12T17:41:18.343410",
     "exception": false,
     "start_time": "2024-05-12T17:41:18.274587",
     "status": "completed"
    },
    "tags": []
   },
   "outputs": [
    {
     "name": "stdout",
     "output_type": "stream",
     "text": [
      "DecisionTreeClassifier accuracy score: 94.31438127090301\n",
      "              precision    recall  f1-score   support\n",
      "\n",
      "           0       0.95      0.99      0.97      1417\n",
      "           1       0.29      0.06      0.11        78\n",
      "\n",
      "    accuracy                           0.94      1495\n",
      "   macro avg       0.62      0.53      0.54      1495\n",
      "weighted avg       0.92      0.94      0.93      1495\n",
      "\n"
     ]
    }
   ],
   "source": [
    "dec_clf=DecisionTreeClassifier(criterion='gini',random_state=3,max_depth=5)\n",
    "dec_clf.fit(X_train,y_train)\n",
    "y_pred=dec_clf.predict(X_test)\n",
    "print('DecisionTreeClassifier accuracy score:', dec_clf.score(X_test, y_test)*100)\n",
    "print(classification_report(y_test, y_pred))"
   ]
  },
  {
   "cell_type": "markdown",
   "id": "f900044c",
   "metadata": {
    "papermill": {
     "duration": 0.026786,
     "end_time": "2024-05-12T17:41:18.397469",
     "exception": false,
     "start_time": "2024-05-12T17:41:18.370683",
     "status": "completed"
    },
    "tags": []
   },
   "source": [
    "# RandomForestClassifier"
   ]
  },
  {
   "cell_type": "code",
   "execution_count": 27,
   "id": "150e6776",
   "metadata": {
    "execution": {
     "iopub.execute_input": "2024-05-12T17:41:18.454406Z",
     "iopub.status.busy": "2024-05-12T17:41:18.453839Z",
     "iopub.status.idle": "2024-05-12T17:41:18.606744Z",
     "shell.execute_reply": "2024-05-12T17:41:18.605264Z"
    },
    "papermill": {
     "duration": 0.184636,
     "end_time": "2024-05-12T17:41:18.609602",
     "exception": false,
     "start_time": "2024-05-12T17:41:18.424966",
     "status": "completed"
    },
    "tags": []
   },
   "outputs": [
    {
     "name": "stdout",
     "output_type": "stream",
     "text": [
      "RandomForestClassifier accuracy score: 94.58193979933111\n",
      "              precision    recall  f1-score   support\n",
      "\n",
      "           0       0.95      1.00      0.97      1417\n",
      "           1       0.00      0.00      0.00        78\n",
      "\n",
      "    accuracy                           0.95      1495\n",
      "   macro avg       0.47      0.50      0.49      1495\n",
      "weighted avg       0.90      0.95      0.92      1495\n",
      "\n"
     ]
    }
   ],
   "source": [
    "rand_clf=RandomForestClassifier(n_estimators=20,criterion=\"entropy\")\n",
    "rand_clf.fit(X_train,y_train)\n",
    "y_pred=rand_clf.predict(X_test)\n",
    "print('RandomForestClassifier accuracy score:', rand_clf.score(X_test, y_test)*100)\n",
    "print(classification_report(y_test, y_pred))\n"
   ]
  },
  {
   "cell_type": "markdown",
   "id": "9b19edfc",
   "metadata": {
    "papermill": {
     "duration": 0.02609,
     "end_time": "2024-05-12T17:41:18.663580",
     "exception": false,
     "start_time": "2024-05-12T17:41:18.637490",
     "status": "completed"
    },
    "tags": []
   },
   "source": [
    "# SVM"
   ]
  },
  {
   "cell_type": "code",
   "execution_count": 28,
   "id": "20f1023e",
   "metadata": {
    "execution": {
     "iopub.execute_input": "2024-05-12T17:41:18.719189Z",
     "iopub.status.busy": "2024-05-12T17:41:18.718705Z",
     "iopub.status.idle": "2024-05-12T17:41:18.969766Z",
     "shell.execute_reply": "2024-05-12T17:41:18.968239Z"
    },
    "papermill": {
     "duration": 0.283338,
     "end_time": "2024-05-12T17:41:18.973547",
     "exception": false,
     "start_time": "2024-05-12T17:41:18.690209",
     "status": "completed"
    },
    "tags": []
   },
   "outputs": [
    {
     "name": "stdout",
     "output_type": "stream",
     "text": [
      "Accuracy for  SVM is  94.78260869565217\n",
      "              precision    recall  f1-score   support\n",
      "\n",
      "           0       0.95      1.00      0.97      1417\n",
      "           1       0.00      0.00      0.00        78\n",
      "\n",
      "    accuracy                           0.95      1495\n",
      "   macro avg       0.47      0.50      0.49      1495\n",
      "weighted avg       0.90      0.95      0.92      1495\n",
      "\n"
     ]
    },
    {
     "name": "stderr",
     "output_type": "stream",
     "text": [
      "/opt/conda/lib/python3.10/site-packages/sklearn/metrics/_classification.py:1344: UndefinedMetricWarning: Precision and F-score are ill-defined and being set to 0.0 in labels with no predicted samples. Use `zero_division` parameter to control this behavior.\n",
      "  _warn_prf(average, modifier, msg_start, len(result))\n",
      "/opt/conda/lib/python3.10/site-packages/sklearn/metrics/_classification.py:1344: UndefinedMetricWarning: Precision and F-score are ill-defined and being set to 0.0 in labels with no predicted samples. Use `zero_division` parameter to control this behavior.\n",
      "  _warn_prf(average, modifier, msg_start, len(result))\n",
      "/opt/conda/lib/python3.10/site-packages/sklearn/metrics/_classification.py:1344: UndefinedMetricWarning: Precision and F-score are ill-defined and being set to 0.0 in labels with no predicted samples. Use `zero_division` parameter to control this behavior.\n",
      "  _warn_prf(average, modifier, msg_start, len(result))\n"
     ]
    }
   ],
   "source": [
    "model=svm.SVC(kernel='rbf',C=1,gamma=0.1)\n",
    "model.fit(X_train,y_train)\n",
    "y_pred=model.predict(X_test)\n",
    "print('Accuracy for  SVM is ',metrics.accuracy_score(y_pred,y_test)*100)\n",
    "print(classification_report(y_test, y_pred))"
   ]
  },
  {
   "cell_type": "markdown",
   "id": "43a73160",
   "metadata": {
    "papermill": {
     "duration": 0.026566,
     "end_time": "2024-05-12T17:41:19.028851",
     "exception": false,
     "start_time": "2024-05-12T17:41:19.002285",
     "status": "completed"
    },
    "tags": []
   },
   "source": [
    "# NaiveBayes"
   ]
  },
  {
   "cell_type": "code",
   "execution_count": 29,
   "id": "94922e7b",
   "metadata": {
    "execution": {
     "iopub.execute_input": "2024-05-12T17:41:19.086255Z",
     "iopub.status.busy": "2024-05-12T17:41:19.085770Z",
     "iopub.status.idle": "2024-05-12T17:41:19.172461Z",
     "shell.execute_reply": "2024-05-12T17:41:19.170317Z"
    },
    "papermill": {
     "duration": 0.118687,
     "end_time": "2024-05-12T17:41:19.175377",
     "exception": false,
     "start_time": "2024-05-12T17:41:19.056690",
     "status": "completed"
    },
    "tags": []
   },
   "outputs": [
    {
     "name": "stdout",
     "output_type": "stream",
     "text": [
      "The accuracy of the NaiveBayes is 0.9478260869565217\n"
     ]
    },
    {
     "name": "stderr",
     "output_type": "stream",
     "text": [
      "/opt/conda/lib/python3.10/site-packages/sklearn/metrics/_classification.py:1344: UndefinedMetricWarning: Precision and F-score are ill-defined and being set to 0.0 in labels with no predicted samples. Use `zero_division` parameter to control this behavior.\n",
      "  _warn_prf(average, modifier, msg_start, len(result))\n"
     ]
    },
    {
     "name": "stdout",
     "output_type": "stream",
     "text": [
      "              precision    recall  f1-score   support\n",
      "\n",
      "           0       0.95      1.00      0.97      1417\n",
      "           1       0.00      0.00      0.00        78\n",
      "\n",
      "    accuracy                           0.95      1495\n",
      "   macro avg       0.47      0.50      0.49      1495\n",
      "weighted avg       0.90      0.95      0.92      1495\n",
      "\n"
     ]
    },
    {
     "name": "stderr",
     "output_type": "stream",
     "text": [
      "/opt/conda/lib/python3.10/site-packages/sklearn/metrics/_classification.py:1344: UndefinedMetricWarning: Precision and F-score are ill-defined and being set to 0.0 in labels with no predicted samples. Use `zero_division` parameter to control this behavior.\n",
      "  _warn_prf(average, modifier, msg_start, len(result))\n",
      "/opt/conda/lib/python3.10/site-packages/sklearn/metrics/_classification.py:1344: UndefinedMetricWarning: Precision and F-score are ill-defined and being set to 0.0 in labels with no predicted samples. Use `zero_division` parameter to control this behavior.\n",
      "  _warn_prf(average, modifier, msg_start, len(result))\n"
     ]
    }
   ],
   "source": [
    "NaiveBayes=GaussianNB()\n",
    "NaiveBayes.fit(X_train,y_train)\n",
    "y_pred=model.predict(X_test)\n",
    "print('The accuracy of the NaiveBayes is',metrics.accuracy_score(y_pred,y_test))\n",
    "print(classification_report(y_test, y_pred))"
   ]
  },
  {
   "cell_type": "markdown",
   "id": "167bca88",
   "metadata": {
    "papermill": {
     "duration": 0.027768,
     "end_time": "2024-05-12T17:41:19.230781",
     "exception": false,
     "start_time": "2024-05-12T17:41:19.203013",
     "status": "completed"
    },
    "tags": []
   },
   "source": [
    "\n",
    "# Bagging Ensemble"
   ]
  },
  {
   "cell_type": "code",
   "execution_count": 30,
   "id": "02a39359",
   "metadata": {
    "execution": {
     "iopub.execute_input": "2024-05-12T17:41:19.288136Z",
     "iopub.status.busy": "2024-05-12T17:41:19.287686Z",
     "iopub.status.idle": "2024-05-12T17:41:28.034268Z",
     "shell.execute_reply": "2024-05-12T17:41:28.032698Z"
    },
    "papermill": {
     "duration": 8.778995,
     "end_time": "2024-05-12T17:41:28.036968",
     "exception": false,
     "start_time": "2024-05-12T17:41:19.257973",
     "status": "completed"
    },
    "tags": []
   },
   "outputs": [
    {
     "name": "stdout",
     "output_type": "stream",
     "text": [
      "The accuracy of the bagging classifier is 0.9471571906354515\n"
     ]
    }
   ],
   "source": [
    "from sklearn.ensemble import BaggingClassifier\n",
    "deci_clf=RandomForestClassifier()\n",
    "clf_bagging=BaggingClassifier(estimator=deci_clf ,n_estimators=20,random_state=42)\n",
    "clf_bagging.fit(X_train,y_train)\n",
    "y_pred=clf_bagging.predict(X_test)\n",
    "print('The accuracy of the bagging classifier is',metrics.accuracy_score(y_pred,y_test))\n"
   ]
  },
  {
   "cell_type": "markdown",
   "id": "0ce554db",
   "metadata": {
    "papermill": {
     "duration": 0.027319,
     "end_time": "2024-05-12T17:41:28.091642",
     "exception": false,
     "start_time": "2024-05-12T17:41:28.064323",
     "status": "completed"
    },
    "tags": []
   },
   "source": [
    "# Boosting Ensemble "
   ]
  },
  {
   "cell_type": "code",
   "execution_count": 31,
   "id": "d53962d8",
   "metadata": {
    "execution": {
     "iopub.execute_input": "2024-05-12T17:41:28.151339Z",
     "iopub.status.busy": "2024-05-12T17:41:28.150478Z",
     "iopub.status.idle": "2024-05-12T17:41:28.764579Z",
     "shell.execute_reply": "2024-05-12T17:41:28.763335Z"
    },
    "papermill": {
     "duration": 0.645698,
     "end_time": "2024-05-12T17:41:28.767107",
     "exception": false,
     "start_time": "2024-05-12T17:41:28.121409",
     "status": "completed"
    },
    "tags": []
   },
   "outputs": [
    {
     "name": "stdout",
     "output_type": "stream",
     "text": [
      "The accuracy of the Boosting classifier is 0.945819397993311\n"
     ]
    }
   ],
   "source": [
    "from sklearn.ensemble import AdaBoostClassifier\n",
    "decs_clf=RandomForestClassifier()\n",
    "clf_boosting=AdaBoostClassifier(estimator=decs_clf ,n_estimators=20 ,random_state=42)\n",
    "clf_boosting.fit(X_train,y_train)\n",
    "y_pred=clf_boosting.predict(X_test)\n",
    "print('The accuracy of the Boosting classifier is',metrics.accuracy_score(y_pred,y_test))\n"
   ]
  },
  {
   "cell_type": "markdown",
   "id": "4574fb2b",
   "metadata": {
    "papermill": {
     "duration": 0.026619,
     "end_time": "2024-05-12T17:41:28.821502",
     "exception": false,
     "start_time": "2024-05-12T17:41:28.794883",
     "status": "completed"
    },
    "tags": []
   },
   "source": [
    "# VotingClassifier"
   ]
  },
  {
   "cell_type": "code",
   "execution_count": 32,
   "id": "c356530c",
   "metadata": {
    "execution": {
     "iopub.execute_input": "2024-05-12T17:41:28.877693Z",
     "iopub.status.busy": "2024-05-12T17:41:28.877192Z",
     "iopub.status.idle": "2024-05-12T17:42:23.723991Z",
     "shell.execute_reply": "2024-05-12T17:42:23.722378Z"
    },
    "papermill": {
     "duration": 54.906782,
     "end_time": "2024-05-12T17:42:23.755101",
     "exception": false,
     "start_time": "2024-05-12T17:41:28.848319",
     "status": "completed"
    },
    "tags": []
   },
   "outputs": [
    {
     "name": "stdout",
     "output_type": "stream",
     "text": [
      "The accuracy for ensembled model is: 0.9478260869565217\n",
      "The cross validated score is : 0.9498092570683536\n"
     ]
    }
   ],
   "source": [
    "from sklearn.ensemble import VotingClassifier\n",
    "from sklearn.model_selection import cross_val_score #score evaluation\n",
    "from sklearn.model_selection import cross_val_predict #prediction\n",
    "ensemble_lin_rbf=VotingClassifier(estimators=[\n",
    "                                              ('RBF',svm.SVC(probability=True,kernel='rbf',C=0.5,gamma=0.1)),\n",
    "                                              ('RFor',RandomForestClassifier(n_estimators=500,random_state=0)),\n",
    "                                              ('LR',LogisticRegression(C=0.05)),\n",
    "                                              ('DT',DecisionTreeClassifier(random_state=0)),\n",
    "                                              ('NB',GaussianNB()),\n",
    "                                              ('svm',svm.SVC(kernel='linear',probability=True))\n",
    "                                             ], \n",
    "                       voting='soft').fit(X_train,y_train)\n",
    "print('The accuracy for ensembled model is:',ensemble_lin_rbf.score(X_test,y_test))\n",
    "cross=cross_val_score(ensemble_lin_rbf,X,y, cv = 10,scoring = \"accuracy\")\n",
    "print('The cross validated score is :',cross.mean())"
   ]
  },
  {
   "cell_type": "markdown",
   "id": "602797ca",
   "metadata": {
    "papermill": {
     "duration": 0.027704,
     "end_time": "2024-05-12T17:42:23.811432",
     "exception": false,
     "start_time": "2024-05-12T17:42:23.783728",
     "status": "completed"
    },
    "tags": []
   },
   "source": [
    "# Models Accuracy Comparison"
   ]
  },
  {
   "cell_type": "code",
   "execution_count": 33,
   "id": "a160b2bb",
   "metadata": {
    "execution": {
     "iopub.execute_input": "2024-05-12T17:42:23.868931Z",
     "iopub.status.busy": "2024-05-12T17:42:23.868544Z",
     "iopub.status.idle": "2024-05-12T17:42:35.271328Z",
     "shell.execute_reply": "2024-05-12T17:42:35.270002Z"
    },
    "papermill": {
     "duration": 11.434723,
     "end_time": "2024-05-12T17:42:35.274051",
     "exception": false,
     "start_time": "2024-05-12T17:42:23.839328",
     "status": "completed"
    },
    "tags": []
   },
   "outputs": [
    {
     "data": {
      "text/html": [
       "<div>\n",
       "<style scoped>\n",
       "    .dataframe tbody tr th:only-of-type {\n",
       "        vertical-align: middle;\n",
       "    }\n",
       "\n",
       "    .dataframe tbody tr th {\n",
       "        vertical-align: top;\n",
       "    }\n",
       "\n",
       "    .dataframe thead th {\n",
       "        text-align: right;\n",
       "    }\n",
       "</style>\n",
       "<table border=\"1\" class=\"dataframe\">\n",
       "  <thead>\n",
       "    <tr style=\"text-align: right;\">\n",
       "      <th></th>\n",
       "      <th>CV Mean</th>\n",
       "      <th>Std</th>\n",
       "    </tr>\n",
       "  </thead>\n",
       "  <tbody>\n",
       "    <tr>\n",
       "      <th>Linear Svm</th>\n",
       "      <td>0.950285</td>\n",
       "      <td>0.124694</td>\n",
       "    </tr>\n",
       "    <tr>\n",
       "      <th>Radial Svm</th>\n",
       "      <td>0.950285</td>\n",
       "      <td>0.124694</td>\n",
       "    </tr>\n",
       "    <tr>\n",
       "      <th>Logistic Regression</th>\n",
       "      <td>0.950285</td>\n",
       "      <td>0.124694</td>\n",
       "    </tr>\n",
       "    <tr>\n",
       "      <th>Decision Tree</th>\n",
       "      <td>0.903094</td>\n",
       "      <td>0.104846</td>\n",
       "    </tr>\n",
       "    <tr>\n",
       "      <th>Naive Bayes</th>\n",
       "      <td>0.851881</td>\n",
       "      <td>0.078384</td>\n",
       "    </tr>\n",
       "    <tr>\n",
       "      <th>Random Forest</th>\n",
       "      <td>0.948477</td>\n",
       "      <td>0.124116</td>\n",
       "    </tr>\n",
       "  </tbody>\n",
       "</table>\n",
       "</div>"
      ],
      "text/plain": [
       "                      CV Mean       Std\n",
       "Linear Svm           0.950285  0.124694\n",
       "Radial Svm           0.950285  0.124694\n",
       "Logistic Regression  0.950285  0.124694\n",
       "Decision Tree        0.903094  0.104846\n",
       "Naive Bayes          0.851881  0.078384\n",
       "Random Forest        0.948477  0.124116"
      ]
     },
     "execution_count": 33,
     "metadata": {},
     "output_type": "execute_result"
    }
   ],
   "source": [
    "from sklearn.model_selection import KFold #for K-fold cross validation\n",
    "kfold = KFold(n_splits=10) # k=10, split the data into 10 equal parts\n",
    "cv_mean=[]\n",
    "accuracy=[]\n",
    "std=[]\n",
    "classifiers=['Linear Svm','Radial Svm','Logistic Regression','Decision Tree','Naive Bayes','Random Forest']\n",
    "models=[svm.SVC(kernel='linear'),svm.SVC(kernel='rbf'),LogisticRegression(),DecisionTreeClassifier(),GaussianNB(),RandomForestClassifier(n_estimators=100)]\n",
    "for i in models:\n",
    "    model = i\n",
    "    cv_result = cross_val_score(model,X,y, cv = kfold,scoring = \"accuracy\")\n",
    "    cv_result=cv_result\n",
    "    cv_mean.append(cv_result.mean())\n",
    "    std.append(cv_result.std())\n",
    "    accuracy.append(cv_result)\n",
    "new_models_dataframe2=pd.DataFrame({'CV Mean':cv_mean,'Std':std},index=classifiers)       \n",
    "new_models_dataframe2"
   ]
  },
  {
   "cell_type": "code",
   "execution_count": 34,
   "id": "f6a22993",
   "metadata": {
    "execution": {
     "iopub.execute_input": "2024-05-12T17:42:35.332741Z",
     "iopub.status.busy": "2024-05-12T17:42:35.332321Z",
     "iopub.status.idle": "2024-05-12T17:42:35.621332Z",
     "shell.execute_reply": "2024-05-12T17:42:35.620221Z"
    },
    "papermill": {
     "duration": 0.321167,
     "end_time": "2024-05-12T17:42:35.623911",
     "exception": false,
     "start_time": "2024-05-12T17:42:35.302744",
     "status": "completed"
    },
    "tags": []
   },
   "outputs": [
    {
     "data": {
      "image/png": "[encoded data removed]",
      "text/plain": [
       "<Figure size 800x500 with 1 Axes>"
      ]
     },
     "metadata": {},
     "output_type": "display_data"
    }
   ],
   "source": [
    "new_models_dataframe2['CV Mean'].plot.barh(width=0.8)\n",
    "plt.title('Average CV Mean Accuracy')\n",
    "fig=plt.gcf()\n",
    "fig.set_size_inches(8,5)\n",
    "plt.show()"
   ]
  }
 ],
 "metadata": {
  "kaggle": {
   "accelerator": "none",
   "dataSources": [
    {
     "datasetId": 2387714,
     "sourceId": 4029610,
     "sourceType": "datasetVersion"
    }
   ],
   "dockerImageVersionId": 30698,
   "isGpuEnabled": false,
   "isInternetEnabled": true,
   "language": "python",
   "sourceType": "notebook"
  },
  "kernelspec": {
   "display_name": "Python 3",
   "language": "python",
   "name": "python3"
  },
  "language_info": {
   "codemirror_mode": {
    "name": "ipython",
    "version": 3
   },
   "file_extension": ".py",
   "mimetype": "text/x-python",
   "name": "python",
   "nbconvert_exporter": "python",
   "pygments_lexer": "ipython3",
   "version": "3.10.13"
  },
  "papermill": {
   "default_parameters": {},
   "duration": 91.564293,
   "end_time": "2024-05-12T17:42:36.377222",
   "environment_variables": {},
   "exception": null,
   "input_path": "__notebook__.ipynb",
   "output_path": "__notebook__.ipynb",
   "parameters": {},
   "start_time": "2024-05-12T17:41:04.812929",
   "version": "2.5.0"
  }
 },
 "nbformat": 4,
 "nbformat_minor": 5
}
